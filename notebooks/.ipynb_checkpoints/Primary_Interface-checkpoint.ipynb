{
 "cells": [
  {
   "cell_type": "markdown",
   "metadata": {},
   "source": [
    "# FTSE 4hr backtest\n",
    "## User Interface\n",
    "\n",
    "\n",
    "In this notebook we will create the user interface"
   ]
  },
  {
   "cell_type": "code",
   "execution_count": 1,
   "metadata": {},
   "outputs": [
    {
     "name": "stdout",
     "output_type": "stream",
     "text": [
      "Data_Viz.ipynb             ftse_app.py\r\n",
      "FTSE4 Data Prep.ipynb      ftse_functions.ipynb\r\n",
      "Primary_Interface.ipynb    ftse_functions.py\r\n",
      "\u001b[34m__pycache__\u001b[m\u001b[m                user_interface_function.py\r\n",
      "ftse_4_features.ipynb\r\n"
     ]
    }
   ],
   "source": [
    "!ls"
   ]
  },
  {
   "cell_type": "code",
   "execution_count": 2,
   "metadata": {},
   "outputs": [],
   "source": [
    "#import standard libraries\n",
    "import pandas as pd"
   ]
  },
  {
   "cell_type": "code",
   "execution_count": 3,
   "metadata": {},
   "outputs": [],
   "source": [
    "import ftse_functions\n",
    "from ftse_functions import outcome_gen, profit_gen, dataframe"
   ]
  },
  {
   "cell_type": "code",
   "execution_count": 4,
   "metadata": {},
   "outputs": [],
   "source": [
    "#Read in and store our static dataframe\n",
    "data = pd.read_csv(\"../data/ftse_static.csv\", parse_dates=[\"time\"])"
   ]
  },
  {
   "cell_type": "code",
   "execution_count": null,
   "metadata": {},
   "outputs": [],
   "source": []
  },
  {
   "cell_type": "code",
   "execution_count": 5,
   "metadata": {},
   "outputs": [],
   "source": [
    "#The function is stored in a .py file for ease of use throughout the project. \n",
    "import user_interface_function"
   ]
  },
  {
   "cell_type": "code",
   "execution_count": 6,
   "metadata": {},
   "outputs": [],
   "source": [
    "from user_interface_function import user_interface"
   ]
  },
  {
   "cell_type": "code",
   "execution_count": 7,
   "metadata": {},
   "outputs": [
    {
     "name": "stdout",
     "output_type": "stream",
     "text": [
      "\n",
      "Has a double tap signal been recorded on the 4hr timeframe? y/n: \n",
      "y\n",
      "\n",
      "That's great! Let's see if you can make a profitable trade!!\n",
      "\n",
      "What is the trade direction, long or short?: long\n",
      "\n",
      "What is your target value in points?: 40\n",
      "\n",
      "What is your maximum drawdown value?: 18\n",
      "the length of profit list is 662\n",
      "\n",
      "What is your trade size: 1\n"
     ]
    },
    {
     "data": {
      "text/plain": [
       "'Across 300 total trades there are 73 winning trades at an average of 79.0 points per winning trade. There are 227 losing trades at an average loss of -11.0 points. For a trade size of 1 the average trade return is 11.0'"
      ]
     },
     "execution_count": 7,
     "metadata": {},
     "output_type": "execute_result"
    }
   ],
   "source": [
    "user_interface()"
   ]
  },
  {
   "cell_type": "code",
   "execution_count": 8,
   "metadata": {},
   "outputs": [
    {
     "data": {
      "text/html": [
       "<div>\n",
       "<style scoped>\n",
       "    .dataframe tbody tr th:only-of-type {\n",
       "        vertical-align: middle;\n",
       "    }\n",
       "\n",
       "    .dataframe tbody tr th {\n",
       "        vertical-align: top;\n",
       "    }\n",
       "\n",
       "    .dataframe thead th {\n",
       "        text-align: right;\n",
       "    }\n",
       "</style>\n",
       "<table border=\"1\" class=\"dataframe\">\n",
       "  <thead>\n",
       "    <tr style=\"text-align: right;\">\n",
       "      <th></th>\n",
       "      <th>time</th>\n",
       "      <th>open</th>\n",
       "      <th>high</th>\n",
       "      <th>low</th>\n",
       "      <th>close</th>\n",
       "      <th>direction</th>\n",
       "      <th>signal</th>\n",
       "    </tr>\n",
       "  </thead>\n",
       "  <tbody>\n",
       "    <tr>\n",
       "      <th>0</th>\n",
       "      <td>2020-04-23 11:00:00</td>\n",
       "      <td>5770.0</td>\n",
       "      <td>5822.0</td>\n",
       "      <td>5755.6</td>\n",
       "      <td>5798.1</td>\n",
       "      <td>long</td>\n",
       "      <td>unknown</td>\n",
       "    </tr>\n",
       "    <tr>\n",
       "      <th>1</th>\n",
       "      <td>2020-04-23 15:00:00</td>\n",
       "      <td>5797.9</td>\n",
       "      <td>5847.9</td>\n",
       "      <td>5762.1</td>\n",
       "      <td>5773.2</td>\n",
       "      <td>short</td>\n",
       "      <td>trade</td>\n",
       "    </tr>\n",
       "    <tr>\n",
       "      <th>2</th>\n",
       "      <td>2020-04-23 19:00:00</td>\n",
       "      <td>5773.2</td>\n",
       "      <td>5796.8</td>\n",
       "      <td>5744.1</td>\n",
       "      <td>5769.5</td>\n",
       "      <td>short</td>\n",
       "      <td>no_trade</td>\n",
       "    </tr>\n",
       "    <tr>\n",
       "      <th>3</th>\n",
       "      <td>2020-04-23 23:00:00</td>\n",
       "      <td>5756.8</td>\n",
       "      <td>5770.2</td>\n",
       "      <td>5731.6</td>\n",
       "      <td>5740.2</td>\n",
       "      <td>short</td>\n",
       "      <td>no_trade</td>\n",
       "    </tr>\n",
       "    <tr>\n",
       "      <th>4</th>\n",
       "      <td>2020-04-24 03:00:00</td>\n",
       "      <td>5740.0</td>\n",
       "      <td>5755.0</td>\n",
       "      <td>5720.3</td>\n",
       "      <td>5744.3</td>\n",
       "      <td>long</td>\n",
       "      <td>trade</td>\n",
       "    </tr>\n",
       "  </tbody>\n",
       "</table>\n",
       "</div>"
      ],
      "text/plain": [
       "                 time    open    high     low   close direction    signal\n",
       "0 2020-04-23 11:00:00  5770.0  5822.0  5755.6  5798.1      long   unknown\n",
       "1 2020-04-23 15:00:00  5797.9  5847.9  5762.1  5773.2     short     trade\n",
       "2 2020-04-23 19:00:00  5773.2  5796.8  5744.1  5769.5     short  no_trade\n",
       "3 2020-04-23 23:00:00  5756.8  5770.2  5731.6  5740.2     short  no_trade\n",
       "4 2020-04-24 03:00:00  5740.0  5755.0  5720.3  5744.3      long     trade"
      ]
     },
     "execution_count": 8,
     "metadata": {},
     "output_type": "execute_result"
    }
   ],
   "source": [
    "data.head()"
   ]
  },
  {
   "cell_type": "markdown",
   "metadata": {},
   "source": [
    "#### Check dataframes can still be called from the functions to build the complete data frame should we want to display in web app. "
   ]
  },
  {
   "cell_type": "code",
   "execution_count": 9,
   "metadata": {},
   "outputs": [],
   "source": [
    "#When we deploy the web app we may want to display the individual dataframes and any visualisations alongside\n",
    "trade = data\n",
    "#specify the values\n",
    "target=20\n",
    "drawdown = 15\n",
    "\n",
    "#create and join the outcome values\n",
    "outcome = outcome_gen(target, drawdown)\n",
    "\n",
    "trade = trade.join(outcome)"
   ]
  },
  {
   "cell_type": "code",
   "execution_count": 10,
   "metadata": {},
   "outputs": [
    {
     "name": "stdout",
     "output_type": "stream",
     "text": [
      "the length of profit list is 663\n"
     ]
    }
   ],
   "source": [
    "#create and join the profit values. \n",
    "#Note to build the profit feature we always need to build and join the outcome feature first! \n",
    "profit = profit_gen(target, drawdown)\n",
    "\n",
    "trade= trade.join(profit)"
   ]
  },
  {
   "cell_type": "code",
   "execution_count": 11,
   "metadata": {},
   "outputs": [
    {
     "data": {
      "text/html": [
       "<div>\n",
       "<style scoped>\n",
       "    .dataframe tbody tr th:only-of-type {\n",
       "        vertical-align: middle;\n",
       "    }\n",
       "\n",
       "    .dataframe tbody tr th {\n",
       "        vertical-align: top;\n",
       "    }\n",
       "\n",
       "    .dataframe thead th {\n",
       "        text-align: right;\n",
       "    }\n",
       "</style>\n",
       "<table border=\"1\" class=\"dataframe\">\n",
       "  <thead>\n",
       "    <tr style=\"text-align: right;\">\n",
       "      <th></th>\n",
       "      <th>time</th>\n",
       "      <th>open</th>\n",
       "      <th>high</th>\n",
       "      <th>low</th>\n",
       "      <th>close</th>\n",
       "      <th>direction</th>\n",
       "      <th>signal</th>\n",
       "      <th>outcome</th>\n",
       "      <th>profit</th>\n",
       "    </tr>\n",
       "  </thead>\n",
       "  <tbody>\n",
       "    <tr>\n",
       "      <th>0</th>\n",
       "      <td>2020-04-23 11:00:00</td>\n",
       "      <td>5770.0</td>\n",
       "      <td>5822.0</td>\n",
       "      <td>5755.6</td>\n",
       "      <td>5798.1</td>\n",
       "      <td>long</td>\n",
       "      <td>unknown</td>\n",
       "      <td>no_trade</td>\n",
       "      <td>0.0</td>\n",
       "    </tr>\n",
       "    <tr>\n",
       "      <th>1</th>\n",
       "      <td>2020-04-23 15:00:00</td>\n",
       "      <td>5797.9</td>\n",
       "      <td>5847.9</td>\n",
       "      <td>5762.1</td>\n",
       "      <td>5773.2</td>\n",
       "      <td>short</td>\n",
       "      <td>trade</td>\n",
       "      <td>loss</td>\n",
       "      <td>-15.0</td>\n",
       "    </tr>\n",
       "    <tr>\n",
       "      <th>2</th>\n",
       "      <td>2020-04-23 19:00:00</td>\n",
       "      <td>5773.2</td>\n",
       "      <td>5796.8</td>\n",
       "      <td>5744.1</td>\n",
       "      <td>5769.5</td>\n",
       "      <td>short</td>\n",
       "      <td>no_trade</td>\n",
       "      <td>no_trade</td>\n",
       "      <td>0.0</td>\n",
       "    </tr>\n",
       "    <tr>\n",
       "      <th>3</th>\n",
       "      <td>2020-04-23 23:00:00</td>\n",
       "      <td>5756.8</td>\n",
       "      <td>5770.2</td>\n",
       "      <td>5731.6</td>\n",
       "      <td>5740.2</td>\n",
       "      <td>short</td>\n",
       "      <td>no_trade</td>\n",
       "      <td>no_trade</td>\n",
       "      <td>0.0</td>\n",
       "    </tr>\n",
       "    <tr>\n",
       "      <th>4</th>\n",
       "      <td>2020-04-24 03:00:00</td>\n",
       "      <td>5740.0</td>\n",
       "      <td>5755.0</td>\n",
       "      <td>5720.3</td>\n",
       "      <td>5744.3</td>\n",
       "      <td>long</td>\n",
       "      <td>trade</td>\n",
       "      <td>loss</td>\n",
       "      <td>-15.0</td>\n",
       "    </tr>\n",
       "  </tbody>\n",
       "</table>\n",
       "</div>"
      ],
      "text/plain": [
       "                 time    open    high     low   close direction    signal  \\\n",
       "0 2020-04-23 11:00:00  5770.0  5822.0  5755.6  5798.1      long   unknown   \n",
       "1 2020-04-23 15:00:00  5797.9  5847.9  5762.1  5773.2     short     trade   \n",
       "2 2020-04-23 19:00:00  5773.2  5796.8  5744.1  5769.5     short  no_trade   \n",
       "3 2020-04-23 23:00:00  5756.8  5770.2  5731.6  5740.2     short  no_trade   \n",
       "4 2020-04-24 03:00:00  5740.0  5755.0  5720.3  5744.3      long     trade   \n",
       "\n",
       "    outcome  profit  \n",
       "0  no_trade     0.0  \n",
       "1      loss   -15.0  \n",
       "2  no_trade     0.0  \n",
       "3  no_trade     0.0  \n",
       "4      loss   -15.0  "
      ]
     },
     "execution_count": 11,
     "metadata": {},
     "output_type": "execute_result"
    }
   ],
   "source": [
    "trade.head()"
   ]
  },
  {
   "cell_type": "code",
   "execution_count": 12,
   "metadata": {},
   "outputs": [
    {
     "data": {
      "text/html": [
       "<div>\n",
       "<style scoped>\n",
       "    .dataframe tbody tr th:only-of-type {\n",
       "        vertical-align: middle;\n",
       "    }\n",
       "\n",
       "    .dataframe tbody tr th {\n",
       "        vertical-align: top;\n",
       "    }\n",
       "\n",
       "    .dataframe thead th {\n",
       "        text-align: right;\n",
       "    }\n",
       "</style>\n",
       "<table border=\"1\" class=\"dataframe\">\n",
       "  <thead>\n",
       "    <tr style=\"text-align: right;\">\n",
       "      <th></th>\n",
       "      <th>time</th>\n",
       "      <th>open</th>\n",
       "      <th>high</th>\n",
       "      <th>low</th>\n",
       "      <th>close</th>\n",
       "      <th>direction</th>\n",
       "      <th>signal</th>\n",
       "      <th>outcome</th>\n",
       "      <th>profit</th>\n",
       "    </tr>\n",
       "  </thead>\n",
       "  <tbody>\n",
       "    <tr>\n",
       "      <th>4</th>\n",
       "      <td>2020-04-24 03:00:00</td>\n",
       "      <td>5740.0</td>\n",
       "      <td>5755.0</td>\n",
       "      <td>5720.3</td>\n",
       "      <td>5744.3</td>\n",
       "      <td>long</td>\n",
       "      <td>trade</td>\n",
       "      <td>loss</td>\n",
       "      <td>-15.0</td>\n",
       "    </tr>\n",
       "    <tr>\n",
       "      <th>619</th>\n",
       "      <td>2020-09-17 11:00:00</td>\n",
       "      <td>6021.5</td>\n",
       "      <td>6062.7</td>\n",
       "      <td>6017.4</td>\n",
       "      <td>6055.1</td>\n",
       "      <td>long</td>\n",
       "      <td>trade</td>\n",
       "      <td>loss</td>\n",
       "      <td>-15.0</td>\n",
       "    </tr>\n",
       "    <tr>\n",
       "      <th>614</th>\n",
       "      <td>2020-09-16 15:00:00</td>\n",
       "      <td>6069.4</td>\n",
       "      <td>6087.3</td>\n",
       "      <td>6058.3</td>\n",
       "      <td>6084.6</td>\n",
       "      <td>long</td>\n",
       "      <td>trade</td>\n",
       "      <td>loss</td>\n",
       "      <td>-15.0</td>\n",
       "    </tr>\n",
       "    <tr>\n",
       "      <th>260</th>\n",
       "      <td>2020-06-25 03:00:00</td>\n",
       "      <td>6104.3</td>\n",
       "      <td>6121.4</td>\n",
       "      <td>6083.8</td>\n",
       "      <td>6120.2</td>\n",
       "      <td>long</td>\n",
       "      <td>trade</td>\n",
       "      <td>loss</td>\n",
       "      <td>-15.0</td>\n",
       "    </tr>\n",
       "    <tr>\n",
       "      <th>524</th>\n",
       "      <td>2020-08-26 03:00:00</td>\n",
       "      <td>6035.1</td>\n",
       "      <td>6049.7</td>\n",
       "      <td>6030.7</td>\n",
       "      <td>6040.0</td>\n",
       "      <td>long</td>\n",
       "      <td>trade</td>\n",
       "      <td>loss</td>\n",
       "      <td>-15.0</td>\n",
       "    </tr>\n",
       "  </tbody>\n",
       "</table>\n",
       "</div>"
      ],
      "text/plain": [
       "                   time    open    high     low   close direction signal  \\\n",
       "4   2020-04-24 03:00:00  5740.0  5755.0  5720.3  5744.3      long  trade   \n",
       "619 2020-09-17 11:00:00  6021.5  6062.7  6017.4  6055.1      long  trade   \n",
       "614 2020-09-16 15:00:00  6069.4  6087.3  6058.3  6084.6      long  trade   \n",
       "260 2020-06-25 03:00:00  6104.3  6121.4  6083.8  6120.2      long  trade   \n",
       "524 2020-08-26 03:00:00  6035.1  6049.7  6030.7  6040.0      long  trade   \n",
       "\n",
       "    outcome  profit  \n",
       "4      loss   -15.0  \n",
       "619    loss   -15.0  \n",
       "614    loss   -15.0  \n",
       "260    loss   -15.0  \n",
       "524    loss   -15.0  "
      ]
     },
     "execution_count": 12,
     "metadata": {},
     "output_type": "execute_result"
    }
   ],
   "source": [
    "trade[(trade.profit < -14) & (trade.outcome==\"loss\")].sample(n=5)"
   ]
  },
  {
   "cell_type": "code",
   "execution_count": 13,
   "metadata": {},
   "outputs": [
    {
     "data": {
      "text/plain": [
       "'short'"
      ]
     },
     "execution_count": 13,
     "metadata": {},
     "output_type": "execute_result"
    }
   ],
   "source": [
    "trade.direction.loc[3]"
   ]
  },
  {
   "cell_type": "code",
   "execution_count": 14,
   "metadata": {},
   "outputs": [
    {
     "name": "stdout",
     "output_type": "stream",
     "text": [
      "There are 72 trades where the trade candle closes in same direction as the signal candle but we also reach our stop limit of 15. We should aim to minimise this loss!\n"
     ]
    }
   ],
   "source": [
    "x=0\n",
    "counter = 0\n",
    "dd = []\n",
    "for index, row in trade.iterrows():\n",
    "    if row[\"outcome\"] == \"loss\" and row[\"direction\"] == trade.direction.loc[x+1] and row[\"direction\"] == \"long\":\n",
    "        draw = trade.low.loc[x+1] - row[\"close\"]\n",
    "        dd.append(draw)\n",
    "#         print (draw)\n",
    "        \n",
    "#         print(x)\n",
    "        x+=1\n",
    "        counter +=1\n",
    "    elif row[\"outcome\"] == \"loss\" and row[\"direction\"] == trade.direction.loc[x+1] and row[\"direction\"] == \"short\":\n",
    "        draw = row[\"close\"] - trade.high.loc[x+1]\n",
    "        dd.append(draw)\n",
    "#         print (draw)\n",
    "#         print(x)\n",
    "        x+=1\n",
    "        counter +=1\n",
    "    else:\n",
    "        x+=1\n",
    "print(f\"There are {counter} trades where the trade candle closes in same direction as the signal candle but we also \\\n",
    "reach our stop limit of {drawdown}. We should aim to minimise this loss!\")"
   ]
  },
  {
   "cell_type": "code",
   "execution_count": null,
   "metadata": {},
   "outputs": [],
   "source": []
  },
  {
   "cell_type": "markdown",
   "metadata": {},
   "source": [
    "## Revised User Interface for use with Streamlit"
   ]
  },
  {
   "cell_type": "code",
   "execution_count": 15,
   "metadata": {},
   "outputs": [],
   "source": [
    "#This version of the user interface will take 5 arguments that will be specified by a user input form embedded in the\n",
    "#streamlit app. The five arguments will mirror the 5 variables uses in the original user interface, as follows:\n",
    "# signal (y/n), direction (long/short), target, drawdown, trade size\n",
    "\n",
    "def app_interface(signal, direction, target, drawdown, size):\n",
    "    \"\"\"\n",
    "    A function to create a user interface\n",
    "    \n",
    "    \"\"\"\n",
    "    \n",
    "    dfx = pd.read_csv(\"../data/ftse_static.csv\", parse_dates=[\"time\"])\n",
    "   \n",
    "    \n",
    "    \n",
    "    \n",
    "    #Conditional statements fed by the signal input\n",
    "    if signal == 'Yes':\n",
    "        \n",
    "        #call the outcome function on the target and drawdown recieved, add the values to master dataframe\n",
    "        \n",
    "        temp = dfx.join(outcome_gen(target, drawdown))\n",
    "        \n",
    "        \n",
    "        \n",
    "        #call the net profit function on the target, drawdown and outcome, add values to master dataframe\n",
    "        \n",
    "        temp = temp.join(profit_gen(target, drawdown))\n",
    "        \n",
    "        \n",
    "        \n",
    "        #Filter for wins and losses using the inputted values\n",
    "        win_filter = temp[temp.outcome==\"win\"].profit\n",
    "        loss_filter = temp[temp.outcome==\"loss\"].profit\n",
    "        \n",
    "        \n",
    "        #store a win average\n",
    "        win_ave = win_filter.mean()\n",
    "        \n",
    "        #store a loss average for losses below the drawdown\n",
    "        loss_ave = loss_filter.mean()\n",
    "        \n",
    "        #store a win count\n",
    "        win_count = win_filter.shape[0]\n",
    "        \n",
    "        #store a loss count for losses below the drawdown\n",
    "        loss_count = loss_filter.shape[0]\n",
    "        \n",
    "        #store a total number of trades\n",
    "        trade_count = win_count + loss_count\n",
    "        \n",
    "        #Calculate and store the average returns based on the user requirements\n",
    "        ave_return = (((win_ave*win_count) + (loss_ave*loss_count)) / trade_count)*size\n",
    "        \n",
    "        \n",
    "        #Create the main return output for user consideration\n",
    "        return f\"Across {trade_count} total trades there are {win_count} winning trades at an average \\\n",
    "of {round(win_ave)} points per winning trade. There are {loss_count} losing trades at an average \\\n",
    "loss of {round(loss_ave)} points. For a trade size of {size } the average trade return is {round(ave_return)}\"\n",
    "        \n",
    "        \n",
    "    \n",
    "    #Close off residual responses to non trade inputs\n",
    "    elif signal == \"No\":\n",
    "        print(\"\\nWithout a valid trade signal we can't calculate a potential profit!\")\n",
    "        print(\"please wait for a valid trade signal\")\n",
    "        return None\n",
    "    \n",
    "#     else:\n",
    "#         print(\"Please enter only a 'y' or an 'n'\")\n",
    "#         return user_interface()\n",
    "        \n",
    "#user_interface()         \n"
   ]
  },
  {
   "cell_type": "code",
   "execution_count": 16,
   "metadata": {},
   "outputs": [
    {
     "name": "stdout",
     "output_type": "stream",
     "text": [
      "the length of profit list is 663\n"
     ]
    },
    {
     "data": {
      "text/plain": [
       "'Across 308 total trades there are 76 winning trades at an average of 86.0 points per winning trade. There are 232 losing trades at an average loss of -11.0 points. For a trade size of 1 the average trade return is 13.0'"
      ]
     },
     "execution_count": 16,
     "metadata": {},
     "output_type": "execute_result"
    }
   ],
   "source": [
    "# Create variables to mimic inputted user values\n",
    "signal = \"Yes\"\n",
    "direction = \"Long\"\n",
    "target = 35\n",
    "drawdown = 15\n",
    "size = 1\n",
    "app_interface(signal, direction, target, drawdown, size)"
   ]
  },
  {
   "cell_type": "code",
   "execution_count": null,
   "metadata": {},
   "outputs": [],
   "source": []
  },
  {
   "cell_type": "code",
   "execution_count": null,
   "metadata": {},
   "outputs": [],
   "source": []
  }
 ],
 "metadata": {
  "kernelspec": {
   "display_name": "learn-env",
   "language": "python",
   "name": "learn-env"
  },
  "language_info": {
   "codemirror_mode": {
    "name": "ipython",
    "version": 3
   },
   "file_extension": ".py",
   "mimetype": "text/x-python",
   "name": "python",
   "nbconvert_exporter": "python",
   "pygments_lexer": "ipython3",
   "version": "3.6.6"
  }
 },
 "nbformat": 4,
 "nbformat_minor": 4
}
