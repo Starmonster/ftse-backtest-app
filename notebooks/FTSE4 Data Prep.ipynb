{
 "cells": [
  {
   "cell_type": "markdown",
   "metadata": {},
   "source": [
    "# FTSE 100 Double Tap Back Test\n",
    "\n",
    "In this notebook we'll read in the data, carry out a high level review and make some basic preparation and cleaning updates. "
   ]
  },
  {
   "cell_type": "code",
   "execution_count": 1,
   "metadata": {},
   "outputs": [],
   "source": [
    "import pandas as pd\n",
    "import numpy as np\n",
    "import datetime as dt"
   ]
  },
  {
   "cell_type": "code",
   "execution_count": 2,
   "metadata": {},
   "outputs": [],
   "source": [
    "import warnings\n",
    "warnings.filterwarnings('ignore')"
   ]
  },
  {
   "cell_type": "code",
   "execution_count": 3,
   "metadata": {},
   "outputs": [
    {
     "name": "stdout",
     "output_type": "stream",
     "text": [
      "FTSE4 Data Prep.ipynb FTSE4.csv\r\n"
     ]
    }
   ],
   "source": [
    "!ls"
   ]
  },
  {
   "cell_type": "code",
   "execution_count": 14,
   "metadata": {},
   "outputs": [],
   "source": [
    "data = pd.read_csv(\"FTSE4.csv\")"
   ]
  },
  {
   "cell_type": "code",
   "execution_count": 15,
   "metadata": {},
   "outputs": [
    {
     "data": {
      "text/html": [
       "<div>\n",
       "<style scoped>\n",
       "    .dataframe tbody tr th:only-of-type {\n",
       "        vertical-align: middle;\n",
       "    }\n",
       "\n",
       "    .dataframe tbody tr th {\n",
       "        vertical-align: top;\n",
       "    }\n",
       "\n",
       "    .dataframe thead th {\n",
       "        text-align: right;\n",
       "    }\n",
       "</style>\n",
       "<table border=\"1\" class=\"dataframe\">\n",
       "  <thead>\n",
       "    <tr style=\"text-align: right;\">\n",
       "      <th></th>\n",
       "      <th>time</th>\n",
       "      <th>open</th>\n",
       "      <th>high</th>\n",
       "      <th>low</th>\n",
       "      <th>close</th>\n",
       "    </tr>\n",
       "  </thead>\n",
       "  <tbody>\n",
       "    <tr>\n",
       "      <th>0</th>\n",
       "      <td>1587636000</td>\n",
       "      <td>5770.0</td>\n",
       "      <td>5822.0</td>\n",
       "      <td>5755.6</td>\n",
       "      <td>5798.1</td>\n",
       "    </tr>\n",
       "    <tr>\n",
       "      <th>1</th>\n",
       "      <td>1587650400</td>\n",
       "      <td>5797.9</td>\n",
       "      <td>5847.9</td>\n",
       "      <td>5762.1</td>\n",
       "      <td>5773.2</td>\n",
       "    </tr>\n",
       "    <tr>\n",
       "      <th>2</th>\n",
       "      <td>1587664800</td>\n",
       "      <td>5773.2</td>\n",
       "      <td>5796.8</td>\n",
       "      <td>5744.1</td>\n",
       "      <td>5769.5</td>\n",
       "    </tr>\n",
       "    <tr>\n",
       "      <th>3</th>\n",
       "      <td>1587679200</td>\n",
       "      <td>5756.8</td>\n",
       "      <td>5770.2</td>\n",
       "      <td>5731.6</td>\n",
       "      <td>5740.2</td>\n",
       "    </tr>\n",
       "    <tr>\n",
       "      <th>4</th>\n",
       "      <td>1587693600</td>\n",
       "      <td>5740.0</td>\n",
       "      <td>5755.0</td>\n",
       "      <td>5720.3</td>\n",
       "      <td>5744.3</td>\n",
       "    </tr>\n",
       "  </tbody>\n",
       "</table>\n",
       "</div>"
      ],
      "text/plain": [
       "         time    open    high     low   close\n",
       "0  1587636000  5770.0  5822.0  5755.6  5798.1\n",
       "1  1587650400  5797.9  5847.9  5762.1  5773.2\n",
       "2  1587664800  5773.2  5796.8  5744.1  5769.5\n",
       "3  1587679200  5756.8  5770.2  5731.6  5740.2\n",
       "4  1587693600  5740.0  5755.0  5720.3  5744.3"
      ]
     },
     "execution_count": 15,
     "metadata": {},
     "output_type": "execute_result"
    }
   ],
   "source": [
    "data.head()"
   ]
  },
  {
   "cell_type": "code",
   "execution_count": 16,
   "metadata": {},
   "outputs": [],
   "source": [
    "#Convert the unix time format into python datetime\n",
    "data.time = pd.to_datetime(data['time'], unit='s')"
   ]
  },
  {
   "cell_type": "code",
   "execution_count": 17,
   "metadata": {},
   "outputs": [
    {
     "data": {
      "text/html": [
       "<div>\n",
       "<style scoped>\n",
       "    .dataframe tbody tr th:only-of-type {\n",
       "        vertical-align: middle;\n",
       "    }\n",
       "\n",
       "    .dataframe tbody tr th {\n",
       "        vertical-align: top;\n",
       "    }\n",
       "\n",
       "    .dataframe thead th {\n",
       "        text-align: right;\n",
       "    }\n",
       "</style>\n",
       "<table border=\"1\" class=\"dataframe\">\n",
       "  <thead>\n",
       "    <tr style=\"text-align: right;\">\n",
       "      <th></th>\n",
       "      <th>time</th>\n",
       "      <th>open</th>\n",
       "      <th>high</th>\n",
       "      <th>low</th>\n",
       "      <th>close</th>\n",
       "    </tr>\n",
       "  </thead>\n",
       "  <tbody>\n",
       "    <tr>\n",
       "      <th>0</th>\n",
       "      <td>2020-04-23 10:00:00</td>\n",
       "      <td>5770.0</td>\n",
       "      <td>5822.0</td>\n",
       "      <td>5755.6</td>\n",
       "      <td>5798.1</td>\n",
       "    </tr>\n",
       "    <tr>\n",
       "      <th>1</th>\n",
       "      <td>2020-04-23 14:00:00</td>\n",
       "      <td>5797.9</td>\n",
       "      <td>5847.9</td>\n",
       "      <td>5762.1</td>\n",
       "      <td>5773.2</td>\n",
       "    </tr>\n",
       "    <tr>\n",
       "      <th>2</th>\n",
       "      <td>2020-04-23 18:00:00</td>\n",
       "      <td>5773.2</td>\n",
       "      <td>5796.8</td>\n",
       "      <td>5744.1</td>\n",
       "      <td>5769.5</td>\n",
       "    </tr>\n",
       "    <tr>\n",
       "      <th>3</th>\n",
       "      <td>2020-04-23 22:00:00</td>\n",
       "      <td>5756.8</td>\n",
       "      <td>5770.2</td>\n",
       "      <td>5731.6</td>\n",
       "      <td>5740.2</td>\n",
       "    </tr>\n",
       "    <tr>\n",
       "      <th>4</th>\n",
       "      <td>2020-04-24 02:00:00</td>\n",
       "      <td>5740.0</td>\n",
       "      <td>5755.0</td>\n",
       "      <td>5720.3</td>\n",
       "      <td>5744.3</td>\n",
       "    </tr>\n",
       "  </tbody>\n",
       "</table>\n",
       "</div>"
      ],
      "text/plain": [
       "                 time    open    high     low   close\n",
       "0 2020-04-23 10:00:00  5770.0  5822.0  5755.6  5798.1\n",
       "1 2020-04-23 14:00:00  5797.9  5847.9  5762.1  5773.2\n",
       "2 2020-04-23 18:00:00  5773.2  5796.8  5744.1  5769.5\n",
       "3 2020-04-23 22:00:00  5756.8  5770.2  5731.6  5740.2\n",
       "4 2020-04-24 02:00:00  5740.0  5755.0  5720.3  5744.3"
      ]
     },
     "execution_count": 17,
     "metadata": {},
     "output_type": "execute_result"
    }
   ],
   "source": [
    "data.head()\n",
    "#For some reason our times don't match those printed in Trading View, every row is 1 hr behind! "
   ]
  },
  {
   "cell_type": "markdown",
   "metadata": {},
   "source": [
    "We'll need to import timedelta to adjust these times to those shown in the chart although we should list this issue on a log of unknowns and uncertainties as the reason for the change is not known. "
   ]
  },
  {
   "cell_type": "code",
   "execution_count": 18,
   "metadata": {},
   "outputs": [],
   "source": [
    "from datetime import timedelta"
   ]
  },
  {
   "cell_type": "code",
   "execution_count": 19,
   "metadata": {},
   "outputs": [],
   "source": [
    "data.time = pd.to_datetime(data.time + timedelta(hours=1))"
   ]
  },
  {
   "cell_type": "code",
   "execution_count": 20,
   "metadata": {},
   "outputs": [
    {
     "data": {
      "text/html": [
       "<div>\n",
       "<style scoped>\n",
       "    .dataframe tbody tr th:only-of-type {\n",
       "        vertical-align: middle;\n",
       "    }\n",
       "\n",
       "    .dataframe tbody tr th {\n",
       "        vertical-align: top;\n",
       "    }\n",
       "\n",
       "    .dataframe thead th {\n",
       "        text-align: right;\n",
       "    }\n",
       "</style>\n",
       "<table border=\"1\" class=\"dataframe\">\n",
       "  <thead>\n",
       "    <tr style=\"text-align: right;\">\n",
       "      <th></th>\n",
       "      <th>time</th>\n",
       "      <th>open</th>\n",
       "      <th>high</th>\n",
       "      <th>low</th>\n",
       "      <th>close</th>\n",
       "    </tr>\n",
       "  </thead>\n",
       "  <tbody>\n",
       "    <tr>\n",
       "      <th>0</th>\n",
       "      <td>2020-04-23 11:00:00</td>\n",
       "      <td>5770.0</td>\n",
       "      <td>5822.0</td>\n",
       "      <td>5755.6</td>\n",
       "      <td>5798.1</td>\n",
       "    </tr>\n",
       "    <tr>\n",
       "      <th>1</th>\n",
       "      <td>2020-04-23 15:00:00</td>\n",
       "      <td>5797.9</td>\n",
       "      <td>5847.9</td>\n",
       "      <td>5762.1</td>\n",
       "      <td>5773.2</td>\n",
       "    </tr>\n",
       "    <tr>\n",
       "      <th>2</th>\n",
       "      <td>2020-04-23 19:00:00</td>\n",
       "      <td>5773.2</td>\n",
       "      <td>5796.8</td>\n",
       "      <td>5744.1</td>\n",
       "      <td>5769.5</td>\n",
       "    </tr>\n",
       "    <tr>\n",
       "      <th>3</th>\n",
       "      <td>2020-04-23 23:00:00</td>\n",
       "      <td>5756.8</td>\n",
       "      <td>5770.2</td>\n",
       "      <td>5731.6</td>\n",
       "      <td>5740.2</td>\n",
       "    </tr>\n",
       "    <tr>\n",
       "      <th>4</th>\n",
       "      <td>2020-04-24 03:00:00</td>\n",
       "      <td>5740.0</td>\n",
       "      <td>5755.0</td>\n",
       "      <td>5720.3</td>\n",
       "      <td>5744.3</td>\n",
       "    </tr>\n",
       "  </tbody>\n",
       "</table>\n",
       "</div>"
      ],
      "text/plain": [
       "                 time    open    high     low   close\n",
       "0 2020-04-23 11:00:00  5770.0  5822.0  5755.6  5798.1\n",
       "1 2020-04-23 15:00:00  5797.9  5847.9  5762.1  5773.2\n",
       "2 2020-04-23 19:00:00  5773.2  5796.8  5744.1  5769.5\n",
       "3 2020-04-23 23:00:00  5756.8  5770.2  5731.6  5740.2\n",
       "4 2020-04-24 03:00:00  5740.0  5755.0  5720.3  5744.3"
      ]
     },
     "execution_count": 20,
     "metadata": {},
     "output_type": "execute_result"
    }
   ],
   "source": [
    "data.head()\n"
   ]
  },
  {
   "cell_type": "markdown",
   "metadata": {},
   "source": [
    "Ok these timestamps match the ones printed in Trading View. We'll keep wary of this anomaly. "
   ]
  },
  {
   "cell_type": "code",
   "execution_count": 22,
   "metadata": {},
   "outputs": [
    {
     "data": {
      "text/plain": [
       "time     0\n",
       "open     0\n",
       "high     0\n",
       "low      0\n",
       "close    0\n",
       "dtype: int64"
      ]
     },
     "execution_count": 22,
     "metadata": {},
     "output_type": "execute_result"
    }
   ],
   "source": [
    "data.isna().sum()"
   ]
  },
  {
   "cell_type": "code",
   "execution_count": 23,
   "metadata": {},
   "outputs": [
    {
     "name": "stdout",
     "output_type": "stream",
     "text": [
      "<class 'pandas.core.frame.DataFrame'>\n",
      "RangeIndex: 663 entries, 0 to 662\n",
      "Data columns (total 5 columns):\n",
      " #   Column  Non-Null Count  Dtype         \n",
      "---  ------  --------------  -----         \n",
      " 0   time    663 non-null    datetime64[ns]\n",
      " 1   open    663 non-null    float64       \n",
      " 2   high    663 non-null    float64       \n",
      " 3   low     663 non-null    float64       \n",
      " 4   close   663 non-null    float64       \n",
      "dtypes: datetime64[ns](1), float64(4)\n",
      "memory usage: 26.0 KB\n"
     ]
    }
   ],
   "source": [
    "data.info()"
   ]
  },
  {
   "cell_type": "code",
   "execution_count": 25,
   "metadata": {},
   "outputs": [
    {
     "data": {
      "text/html": [
       "<div>\n",
       "<style scoped>\n",
       "    .dataframe tbody tr th:only-of-type {\n",
       "        vertical-align: middle;\n",
       "    }\n",
       "\n",
       "    .dataframe tbody tr th {\n",
       "        vertical-align: top;\n",
       "    }\n",
       "\n",
       "    .dataframe thead th {\n",
       "        text-align: right;\n",
       "    }\n",
       "</style>\n",
       "<table border=\"1\" class=\"dataframe\">\n",
       "  <thead>\n",
       "    <tr style=\"text-align: right;\">\n",
       "      <th></th>\n",
       "      <th>open</th>\n",
       "      <th>high</th>\n",
       "      <th>low</th>\n",
       "      <th>close</th>\n",
       "    </tr>\n",
       "  </thead>\n",
       "  <tbody>\n",
       "    <tr>\n",
       "      <th>count</th>\n",
       "      <td>663.000000</td>\n",
       "      <td>663.000000</td>\n",
       "      <td>663.000000</td>\n",
       "      <td>663.000000</td>\n",
       "    </tr>\n",
       "    <tr>\n",
       "      <th>mean</th>\n",
       "      <td>6076.815385</td>\n",
       "      <td>6101.044344</td>\n",
       "      <td>6051.292911</td>\n",
       "      <td>6076.917949</td>\n",
       "    </tr>\n",
       "    <tr>\n",
       "      <th>std</th>\n",
       "      <td>161.644120</td>\n",
       "      <td>160.338156</td>\n",
       "      <td>162.223110</td>\n",
       "      <td>160.999307</td>\n",
       "    </tr>\n",
       "    <tr>\n",
       "      <th>min</th>\n",
       "      <td>5666.700000</td>\n",
       "      <td>5734.600000</td>\n",
       "      <td>5658.200000</td>\n",
       "      <td>5666.600000</td>\n",
       "    </tr>\n",
       "    <tr>\n",
       "      <th>25%</th>\n",
       "      <td>5970.900000</td>\n",
       "      <td>5993.350000</td>\n",
       "      <td>5944.150000</td>\n",
       "      <td>5969.200000</td>\n",
       "    </tr>\n",
       "    <tr>\n",
       "      <th>50%</th>\n",
       "      <td>6074.400000</td>\n",
       "      <td>6095.800000</td>\n",
       "      <td>6051.400000</td>\n",
       "      <td>6073.700000</td>\n",
       "    </tr>\n",
       "    <tr>\n",
       "      <th>75%</th>\n",
       "      <td>6193.350000</td>\n",
       "      <td>6215.900000</td>\n",
       "      <td>6172.450000</td>\n",
       "      <td>6193.450000</td>\n",
       "    </tr>\n",
       "    <tr>\n",
       "      <th>max</th>\n",
       "      <td>6511.200000</td>\n",
       "      <td>6525.500000</td>\n",
       "      <td>6495.200000</td>\n",
       "      <td>6509.000000</td>\n",
       "    </tr>\n",
       "  </tbody>\n",
       "</table>\n",
       "</div>"
      ],
      "text/plain": [
       "              open         high          low        close\n",
       "count   663.000000   663.000000   663.000000   663.000000\n",
       "mean   6076.815385  6101.044344  6051.292911  6076.917949\n",
       "std     161.644120   160.338156   162.223110   160.999307\n",
       "min    5666.700000  5734.600000  5658.200000  5666.600000\n",
       "25%    5970.900000  5993.350000  5944.150000  5969.200000\n",
       "50%    6074.400000  6095.800000  6051.400000  6073.700000\n",
       "75%    6193.350000  6215.900000  6172.450000  6193.450000\n",
       "max    6511.200000  6525.500000  6495.200000  6509.000000"
      ]
     },
     "execution_count": 25,
     "metadata": {},
     "output_type": "execute_result"
    }
   ],
   "source": [
    "data.describe()"
   ]
  },
  {
   "cell_type": "code",
   "execution_count": 26,
   "metadata": {},
   "outputs": [],
   "source": [
    "#let's export our prepared dataset\n",
    "data.to_csv('ftse_base4.csv', index=False)"
   ]
  },
  {
   "cell_type": "code",
   "execution_count": null,
   "metadata": {},
   "outputs": [],
   "source": []
  }
 ],
 "metadata": {
  "kernelspec": {
   "display_name": "learn-env",
   "language": "python",
   "name": "learn-env"
  },
  "language_info": {
   "codemirror_mode": {
    "name": "ipython",
    "version": 3
   },
   "file_extension": ".py",
   "mimetype": "text/x-python",
   "name": "python",
   "nbconvert_exporter": "python",
   "pygments_lexer": "ipython3",
   "version": "3.6.6"
  }
 },
 "nbformat": 4,
 "nbformat_minor": 4
}
